{
 "cells": [
  {
   "cell_type": "code",
   "execution_count": 2,
   "metadata": {},
   "outputs": [],
   "source": [
    "import numpy as np\n",
    "\n",
    "def Sk(S_k_1, y_k, y_k_1, x_k, x_k_1):\n",
    "    return S_k_1 + 0.5 * (y_k + y_k_1) * (x_k - x_k_1)\n",
    "\n",
    "def SSk(SS_k_1, S_k, S_k_1, x_k, x_k_1):\n",
    "    return SS_k_1 + 0.5 * (S_k + S_k_1) * (x_k - x_k_1)\n",
    "\n",
    "def S(x, y):\n",
    "    ret_S = [0]\n",
    "    for k in range(1, len(x)):\n",
    "        S_k = Sk(ret_S[k-1], y[k], y[k-1], x[k], x[k-1])\n",
    "        ret_S.append(S_k)\n",
    "    return ret_S\n",
    "\n",
    "def SS(s, x):\n",
    "    ret_SS = [0]\n",
    "    for k in range(1, len(x)):\n",
    "        SS_k = SSk(ret_SS[k-1], s[k], s[k-1], x[k], x[k-1])\n",
    "        ret_SS.append(SS_k)\n",
    "    return ret_SS\n",
    "\n",
    "def F1(SS_k, y_k):\n",
    "    return SS_k / y_k\n",
    "\n",
    "def F2(S_k, y_k):\n",
    "    return S_k / y_k\n",
    "\n",
    "def F3(x_k, y_k):\n",
    "    return (x_k ** 2) / y_k\n",
    "\n",
    "def F4(x_k, y_k):\n",
    "    return x_k / y_k\n",
    "\n",
    "def F5(y_k):\n",
    "    return 1 / y_k\n",
    "\n",
    "def construct_f(a, b, c, p, q):\n",
    "    def f(x):\n",
    "        # print(type(a), type(b), type(c), type(p), type(q))\n",
    "        return a + b*np.exp(p*x) + c*np.exp(q*x)\n",
    "    return f\n",
    "\n",
    "def fit(x, y):\n",
    "    Sxy = S(x,y)\n",
    "    SSxy = SS(Sxy, x)\n",
    "    F1xy = F1(SSxy, y)\n",
    "    F2xy = F2(Sxy, y)\n",
    "    F3xy = F3(x, y)\n",
    "    F4xy = F4(x, y)\n",
    "    F5xy = F5(y)\n",
    "    F = np.array([F1xy, F2xy, F3xy, F4xy, F5xy])\n",
    "    f = np.array([np.sum(F1xy), np.sum(F2xy), np.sum(F3xy), \n",
    "                  np.sum(F4xy), np.sum(F5xy)])\n",
    "    F = F @ F.T\n",
    "    A, B, C, D, E = np.linalg.inv(F) @ f\n",
    "    pre_sqrt = np.clip(B**2 + 4*A, 0, np.inf) # edits 1\n",
    "    \n",
    "    p = 0.5 * (B + np.sqrt(pre_sqrt))\n",
    "    q = 0.5 * (B - np.sqrt(pre_sqrt))\n",
    "    G1 = 1 / y\n",
    "    G2 = np.exp(p*x) / y\n",
    "    G3 = np.exp(q*x) / y\n",
    "    G = np.array([G1, G2, G3])\n",
    "    G = G @ G.T\n",
    "    g = np.array([np.sum(G1), np.sum(G2), np.sum(G3)])\n",
    "    a, b, c = np.linalg.pinv(G) @ g # edits 2\n",
    "    return a, b, c, p, q"
   ]
  },
  {
   "cell_type": "code",
   "execution_count": 13,
   "metadata": {},
   "outputs": [],
   "source": [
    "from pathlib import Path\n",
    "import os\n",
    "import cv2\n",
    "depth_img_path = Path(os.getcwd()).parent / \"data\" / \"output\" / \"front_depth\" / \"depth-1.png\"\n",
    "depth_img = cv2.imread(depth_img_path.as_posix())\n"
   ]
  },
  {
   "cell_type": "code",
   "execution_count": 21,
   "metadata": {},
   "outputs": [
    {
     "ename": "ModuleNotFoundError",
     "evalue": "No module named 'ROAR'",
     "output_type": "error",
     "traceback": [
      "\u001b[0;31m---------------------------------------------------------------------------\u001b[0m",
      "\u001b[0;31mModuleNotFoundError\u001b[0m                       Traceback (most recent call last)",
      "\u001b[0;32m<ipython-input-21-33f9c54eb4ea>\u001b[0m in \u001b[0;36m<module>\u001b[0;34m\u001b[0m\n\u001b[1;32m      1\u001b[0m \u001b[0;32mimport\u001b[0m \u001b[0mnumpy\u001b[0m \u001b[0;32mas\u001b[0m \u001b[0mnp\u001b[0m\u001b[0;34m\u001b[0m\u001b[0;34m\u001b[0m\u001b[0m\n\u001b[1;32m      2\u001b[0m \u001b[0;32mimport\u001b[0m \u001b[0mcv2\u001b[0m\u001b[0;34m\u001b[0m\u001b[0;34m\u001b[0m\u001b[0m\n\u001b[0;32m----> 3\u001b[0;31m \u001b[0;32mfrom\u001b[0m \u001b[0mROAR\u001b[0m\u001b[0;34m.\u001b[0m\u001b[0mutils\u001b[0m\u001b[0;34m.\u001b[0m\u001b[0mdepth_image_utils\u001b[0m \u001b[0;32mimport\u001b[0m \u001b[0mpng_to_depth\u001b[0m\u001b[0;34m\u001b[0m\u001b[0;34m\u001b[0m\u001b[0m\n\u001b[0m\u001b[1;32m      4\u001b[0m \u001b[0mdata\u001b[0m \u001b[0;34m=\u001b[0m \u001b[0;34m[\u001b[0m\u001b[0;34m]\u001b[0m\u001b[0;34m\u001b[0m\u001b[0;34m\u001b[0m\u001b[0m\n\u001b[1;32m      5\u001b[0m \u001b[0mdepth_image\u001b[0m \u001b[0;34m=\u001b[0m \u001b[0mpng_to_depth\u001b[0m\u001b[0;34m(\u001b[0m\u001b[0mdepth_img\u001b[0m\u001b[0;34m)\u001b[0m\u001b[0;34m\u001b[0m\u001b[0;34m\u001b[0m\u001b[0m\n",
      "\u001b[0;31mModuleNotFoundError\u001b[0m: No module named 'ROAR'"
     ]
    }
   ],
   "source": [
    "import numpy as np\n",
    "import cv2\n",
    "from ROAR.utils.depth_image_utils import png_to_depth\n",
    "data = []\n",
    "depth_image = png_to_depth(depth_img)\n",
    "for i in range(310, depth_image.shape[0]):\n",
    "    j = np.argmax(depth_image[i,:])\n",
    "    print(i, j)\n",
    "    if depth_image[i][j] > 0.01:\n",
    "        xs.append(i)\n",
    "        data.append(depth_image[i][j])\n",
    "a, b, c ,p, q = exp_model.fit(\n",
    "    np.array(xs, dtype=np.float64),\n",
    "    np.array(data, dtype=np.float64)\n",
    ")\n",
    "# Grab test image from somewhere\n",
    "pred_func = construct_f(a, b, c, p, q)\n",
    "rows = np.meshgrid(\n",
    "    np.arange(test_image.shape[1]), np.arange(test_image.shape[0])\n",
    ")[1]\n",
    "preds = pred_func(rows)"
   ]
  },
  {
   "cell_type": "code",
   "execution_count": null,
   "metadata": {},
   "outputs": [],
   "source": []
  }
 ],
 "metadata": {
  "kernelspec": {
   "display_name": "Python 3",
   "language": "python",
   "name": "python3"
  },
  "language_info": {
   "codemirror_mode": {
    "name": "ipython",
    "version": 3
   },
   "file_extension": ".py",
   "mimetype": "text/x-python",
   "name": "python",
   "nbconvert_exporter": "python",
   "pygments_lexer": "ipython3",
   "version": "3.7.7"
  }
 },
 "nbformat": 4,
 "nbformat_minor": 4
}
