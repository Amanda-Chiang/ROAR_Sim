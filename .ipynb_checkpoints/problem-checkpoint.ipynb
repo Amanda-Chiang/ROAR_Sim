{
 "cells": [
  {
   "cell_type": "code",
   "execution_count": 1,
   "metadata": {},
   "outputs": [],
   "source": [
    "import numpy as np"
   ]
  },
  {
   "cell_type": "code",
   "execution_count": null,
   "metadata": {},
   "outputs": [],
   "source": []
  },
  {
   "cell_type": "code",
   "execution_count": null,
   "metadata": {},
   "outputs": [],
   "source": []
  },
  {
   "cell_type": "code",
   "execution_count": 2,
   "metadata": {},
   "outputs": [],
   "source": [
    "def calculate_extrinsics_from_euler(pitch, yaw, roll, tx, ty, tz):\n",
    "    c_y = np.cos(np.radians(yaw))\n",
    "    s_y = np.sin(np.radians(yaw))\n",
    "    c_r = np.cos(np.radians(roll))\n",
    "    s_r = np.sin(np.radians(roll))\n",
    "    c_p = np.cos(np.radians(pitch))\n",
    "    s_p = np.sin(np.radians(pitch))\n",
    "    matrix = np.identity(4)\n",
    "    matrix[0, 3] = tx\n",
    "    matrix[1, 3] = ty\n",
    "    matrix[2, 3] = tz\n",
    "    matrix[0, 0] = c_p * c_y\n",
    "    matrix[0, 1] = c_y * s_p * s_r - s_y * c_r\n",
    "    matrix[0, 2] = -c_y * s_p * c_r - s_y * s_r\n",
    "    matrix[1, 0] = s_y * c_p\n",
    "    matrix[1, 1] = s_y * s_p * s_r + c_y * c_r\n",
    "    matrix[1, 2] = -s_y * s_p * c_r + c_y * s_r\n",
    "    matrix[2, 0] = s_p\n",
    "    matrix[2, 1] = -c_p * s_r\n",
    "    matrix[2, 2] = c_p * c_r\n",
    "    return matrix"
   ]
  },
  {
   "cell_type": "code",
   "execution_count": 3,
   "metadata": {},
   "outputs": [
    {
     "name": "stdout",
     "output_type": "stream",
     "text": [
      "571.2592026968458 571.2592026968458\n"
     ]
    }
   ],
   "source": [
    "curr_vehicle_location = np.array([8.68398380279541, 53.25204849243164, -0.006175861228257418])\n",
    "\n",
    "# pitch, yaw, row\n",
    "curr_vehicle_rotation = np.array([0, -90, 0])\n",
    "\n",
    "# we need to append a 1 at end due to allen's slide, matching extrinsic matrix's size\n",
    "destination_point_coord =  np.asarray([8.63516616821289, 43.11967849731445, -0.005435962695628405, 1]) \n",
    "image_size_x = 800\n",
    "image_size_y = 600\n",
    "fov=70\n",
    "cx = image_size_x / 2\n",
    "cy = image_size_y / 2\n",
    "\n",
    "fx = fy = image_size_x / (2 * np.tan(fov * np.pi / 360))\n",
    "\n",
    "\n",
    "\n",
    "print(fx, fy)"
   ]
  },
  {
   "cell_type": "code",
   "execution_count": 4,
   "metadata": {
    "scrolled": true
   },
   "outputs": [
    {
     "data": {
      "text/plain": [
       "array([[571.2592027,   0.       , 400.       ,   0.       ],\n",
       "       [  0.       , 571.2592027, 300.       ,   0.       ],\n",
       "       [  0.       ,   0.       ,   1.       ,   0.       ],\n",
       "       [  0.       ,   0.       ,   0.       ,   1.       ]])"
      ]
     },
     "execution_count": 4,
     "metadata": {},
     "output_type": "execute_result"
    }
   ],
   "source": [
    "intrinsics_matrix = np.identity(4)\n",
    "intrinsics_matrix[0][0] = fx\n",
    "intrinsics_matrix[1][1] = fy\n",
    "intrinsics_matrix[0][2] = cx\n",
    "intrinsics_matrix[1][2] = cy\n",
    "\n",
    "intrinsics_matrix"
   ]
  },
  {
   "cell_type": "code",
   "execution_count": 5,
   "metadata": {},
   "outputs": [
    {
     "data": {
      "text/plain": [
       "array([400, 400,   1])"
      ]
     },
     "execution_count": 5,
     "metadata": {},
     "output_type": "execute_result"
    }
   ],
   "source": [
    "img_coord = np.asarray([400,400, 1])\n",
    "img_coord"
   ]
  },
  {
   "cell_type": "code",
   "execution_count": 6,
   "metadata": {},
   "outputs": [
    {
     "data": {
      "text/plain": [
       "array([[ 1. ,  0. , -0. ,  1.6],\n",
       "       [ 0. ,  1. ,  0. ,  0. ],\n",
       "       [ 0. , -0. ,  1. ,  1.7],\n",
       "       [ 0. ,  0. ,  0. ,  1. ]])"
      ]
     },
     "execution_count": 6,
     "metadata": {},
     "output_type": "execute_result"
    }
   ],
   "source": [
    "cam_veh_matrix = calculate_extrinsics_from_euler(pitch=0, yaw=0,roll=0, tx=1.6, ty=0, tz=1.7)\n",
    "cam_veh_matrix"
   ]
  },
  {
   "cell_type": "code",
   "execution_count": 7,
   "metadata": {
    "scrolled": true
   },
   "outputs": [
    {
     "data": {
      "text/plain": [
       "array([[-5.04396552e-03,  9.99987279e-01,  1.21486887e-05,\n",
       "         8.68400000e+00],\n",
       "       [-9.99984379e-01, -5.04398015e-03,  2.40852140e-03,\n",
       "         5.32520000e+01],\n",
       "       [ 2.40855204e-03, -0.00000000e+00,  9.99997099e-01,\n",
       "        -6.20000000e-03],\n",
       "       [ 0.00000000e+00,  0.00000000e+00,  0.00000000e+00,\n",
       "         1.00000000e+00]])"
      ]
     },
     "execution_count": 7,
     "metadata": {},
     "output_type": "execute_result"
    }
   ],
   "source": [
    "veh_world_matrix = calculate_extrinsics_from_euler(pitch=0.138, yaw=-90.289, roll=0, tx=8.684, ty=53.252, tz=-0.0062)\n",
    "veh_world_matrix"
   ]
  },
  {
   "cell_type": "code",
   "execution_count": 10,
   "metadata": {},
   "outputs": [
    {
     "data": {
      "text/plain": [
       "array([ 9.98774817, -1.88303622, -0.15449086,  0.188     ])"
      ]
     },
     "execution_count": 10,
     "metadata": {},
     "output_type": "execute_result"
    }
   ],
   "source": [
    "np.linalg.inv(veh_world_matrix) @ np.linalg.inv(cam_veh_matrix) @ np.linalg.inv(intrinsics_matrix) @ np.array([400,400,1,1]) * 0.188"
   ]
  },
  {
   "cell_type": "code",
   "execution_count": 11,
   "metadata": {},
   "outputs": [
    {
     "data": {
      "text/plain": [
       "8580.05734"
      ]
     },
     "execution_count": 11,
     "metadata": {},
     "output_type": "execute_result"
    }
   ],
   "source": [
    "8.58005734e+03 "
   ]
  },
  {
   "cell_type": "code",
   "execution_count": null,
   "metadata": {},
   "outputs": [],
   "source": []
  }
 ],
 "metadata": {
  "kernelspec": {
   "display_name": "Python 3",
   "language": "python",
   "name": "python3"
  },
  "language_info": {
   "codemirror_mode": {
    "name": "ipython",
    "version": 3
   },
   "file_extension": ".py",
   "mimetype": "text/x-python",
   "name": "python",
   "nbconvert_exporter": "python",
   "pygments_lexer": "ipython3",
   "version": "3.7.7"
  }
 },
 "nbformat": 4,
 "nbformat_minor": 4
}
